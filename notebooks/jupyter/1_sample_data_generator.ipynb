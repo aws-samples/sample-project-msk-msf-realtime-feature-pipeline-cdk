{
 "cells": [
  {
   "cell_type": "markdown",
   "id": "afc6772c-f48e-4c83-a245-33fb0f410c19",
   "metadata": {},
   "source": [
    "# Simulate sample data for demo"
   ]
  },
  {
   "cell_type": "markdown",
   "id": "5834cab2-bac0-4782-a56a-58e5cf49046d",
   "metadata": {},
   "source": [
    "## 1. Setup"
   ]
  },
  {
   "cell_type": "code",
   "execution_count": 1,
   "id": "87c21a1b-721a-4160-8776-c4ea68c38fc6",
   "metadata": {},
   "outputs": [],
   "source": [
    "# General\n",
    "STEPS = 10   # number of message generation steps\n",
    "INTERVAL = 2 # seconds between each steps\n",
    "\n",
    "# DynamoDB Table to store coupon access logs\n",
    "DDB_TABLE_NAME = \"proto--log-input\"\n",
    "\n",
    "# Valid Message Setup\n",
    "VALID_MESSAGES_IN_STEPS = [1 for _ in range(STEPS)]\n",
    "\n",
    "# Feaud Message Setup\n",
    "FRAUD_COUPON_CODE = \"0000-0000-0000-0000\"\n",
    "NUM_OF_FRAUD_MESSAGES_IN_STEPS = [\n",
    "    {'step': 2, 'count': 3 },\n",
    "    {'step': 3, 'count': 3 },\n",
    "    {'step': 4, 'count': 3 },\n",
    "]\n",
    "\n",
    "FRAUD_MESSAGES_IN_STEPS = [0 for _ in range(STEPS)]\n",
    "for s in NUM_OF_FRAUD_MESSAGES_IN_STEPS:\n",
    "    if len(FRAUD_MESSAGES_IN_STEPS) > s['step']:\n",
    "        FRAUD_MESSAGES_IN_STEPS[s['step']] = s['count']"
   ]
  },
  {
   "cell_type": "code",
   "execution_count": 2,
   "id": "9d939247-86c4-4532-b959-efa59b516c17",
   "metadata": {},
   "outputs": [
    {
     "name": "stdout",
     "output_type": "stream",
     "text": [
      "STEPS: 10\n",
      "INTERVAL: 2\n",
      "DDB_TABLE_NAME: proto--log-input\n",
      "VALID_MESSAGES_IN_STEPS: [1, 1, 1, 1, 1, 1, 1, 1, 1, 1]\n",
      "FRAUD_MESSAGES_IN_STEPS: [0, 0, 3, 3, 3, 0, 0, 0, 0, 0]\n",
      "FRAUD_COUPON_CODE: 0000-0000-0000-0000\n"
     ]
    }
   ],
   "source": [
    "# View Summary\n",
    "print(f\"STEPS: {STEPS}\")\n",
    "print(f\"INTERVAL: {INTERVAL}\")\n",
    "print(f\"DDB_TABLE_NAME: {DDB_TABLE_NAME}\")\n",
    "print(f\"VALID_MESSAGES_IN_STEPS: {VALID_MESSAGES_IN_STEPS}\")\n",
    "print(f\"FRAUD_MESSAGES_IN_STEPS: {FRAUD_MESSAGES_IN_STEPS}\")\n",
    "print(f\"FRAUD_COUPON_CODE: {FRAUD_COUPON_CODE}\")"
   ]
  },
  {
   "cell_type": "markdown",
   "id": "506ee1cc-ca58-4b29-9743-697518c81cfa",
   "metadata": {},
   "source": [
    "## 2. Simulate message logs"
   ]
  },
  {
   "cell_type": "code",
   "execution_count": 3,
   "id": "50b3ddc6-d698-44cd-a2cf-3a6adcb6f8dc",
   "metadata": {},
   "outputs": [],
   "source": [
    "import time\n",
    "import coupon_sample_data as sample"
   ]
  },
  {
   "cell_type": "code",
   "execution_count": 5,
   "id": "69fdb210-9f72-4d15-838a-cffcc43d6499",
   "metadata": {},
   "outputs": [
    {
     "name": "stdout",
     "output_type": "stream",
     "text": [
      "start.\n",
      "==================================\n",
      "msg seq: 0\n",
      "[{'msg_id': 'A173873487820', 'msg_type': 'COUPON_VALIDATE', 'device_id': 'user3829', 'location_code': 'loc0004', 'coupon_code': '1224-7244-1967-8370', 'response': 'VALID', 'create_time': '2025-02-05T05:55:49.251'}]\n",
      "Successfully wrote 1 items to table proto--log-input\n",
      "msg seq: 1\n",
      "[{'msg_id': 'A173873487821', 'msg_type': 'COUPON_VALIDATE', 'device_id': 'user5877', 'location_code': 'loc0003', 'coupon_code': '5128-5791-7732-4512', 'response': 'VALID', 'create_time': '2025-02-05T05:55:51.470'}]\n",
      "Successfully wrote 1 items to table proto--log-input\n",
      "msg seq: 2\n",
      "[{'msg_id': 'A173873487822', 'msg_type': 'COUPON_VALIDATE', 'device_id': 'user8221', 'location_code': 'loc0002', 'coupon_code': '0946-0002-3335-0924', 'response': 'VALID', 'create_time': '2025-02-05T05:55:53.692'}, {'msg_id': 'A173873487823', 'msg_type': 'COUPON_VALIDATE', 'device_id': 'user0000', 'location_code': 'loc0000', 'coupon_code': '0000-0000-0000-0009', 'response': 'INVALID', 'create_time': '2025-02-05T05:55:53.692'}, {'msg_id': 'A173873487824', 'msg_type': 'COUPON_VALIDATE', 'device_id': 'user0000', 'location_code': 'loc0000', 'coupon_code': '0000-0000-0000-0010', 'response': 'INVALID', 'create_time': '2025-02-05T05:55:53.692'}, {'msg_id': 'A173873487825', 'msg_type': 'COUPON_VALIDATE', 'device_id': 'user0000', 'location_code': 'loc0000', 'coupon_code': '0000-0000-0000-0011', 'response': 'INVALID', 'create_time': '2025-02-05T05:55:53.693'}]\n",
      "Successfully wrote 4 items to table proto--log-input\n",
      "msg seq: 3\n",
      "[{'msg_id': 'A173873487826', 'msg_type': 'COUPON_VALIDATE', 'device_id': 'user1465', 'location_code': 'loc0000', 'coupon_code': '4380-2556-5035-8950', 'response': 'VALID', 'create_time': '2025-02-05T05:55:55.921'}, {'msg_id': 'A173873487827', 'msg_type': 'COUPON_VALIDATE', 'device_id': 'user0000', 'location_code': 'loc0000', 'coupon_code': '0000-0000-0000-0012', 'response': 'INVALID', 'create_time': '2025-02-05T05:55:55.921'}, {'msg_id': 'A173873487828', 'msg_type': 'COUPON_VALIDATE', 'device_id': 'user0000', 'location_code': 'loc0000', 'coupon_code': '0000-0000-0000-0013', 'response': 'INVALID', 'create_time': '2025-02-05T05:55:55.921'}, {'msg_id': 'A173873487829', 'msg_type': 'COUPON_VALIDATE', 'device_id': 'user0000', 'location_code': 'loc0000', 'coupon_code': '0000-0000-0000-0014', 'response': 'INVALID', 'create_time': '2025-02-05T05:55:55.921'}]\n",
      "Successfully wrote 4 items to table proto--log-input\n",
      "msg seq: 4\n",
      "[{'msg_id': 'A173873487830', 'msg_type': 'COUPON_VALIDATE', 'device_id': 'user7339', 'location_code': 'loc0000', 'coupon_code': '5887-5479-4837-7937', 'response': 'VALID', 'create_time': '2025-02-05T05:55:58.138'}, {'msg_id': 'A173873487831', 'msg_type': 'COUPON_VALIDATE', 'device_id': 'user0000', 'location_code': 'loc0000', 'coupon_code': '0000-0000-0000-0015', 'response': 'INVALID', 'create_time': '2025-02-05T05:55:58.138'}, {'msg_id': 'A173873487832', 'msg_type': 'COUPON_VALIDATE', 'device_id': 'user0000', 'location_code': 'loc0000', 'coupon_code': '0000-0000-0000-0016', 'response': 'INVALID', 'create_time': '2025-02-05T05:55:58.138'}, {'msg_id': 'A173873487833', 'msg_type': 'COUPON_VALIDATE', 'device_id': 'user0000', 'location_code': 'loc0000', 'coupon_code': '0000-0000-0000-0017', 'response': 'INVALID', 'create_time': '2025-02-05T05:55:58.138'}]\n",
      "Successfully wrote 4 items to table proto--log-input\n",
      "msg seq: 5\n",
      "[{'msg_id': 'A173873487834', 'msg_type': 'COUPON_VALIDATE', 'device_id': 'user3275', 'location_code': 'loc0002', 'coupon_code': '7553-9721-2197-3963', 'response': 'VALID', 'create_time': '2025-02-05T05:56:00.351'}]\n",
      "Successfully wrote 1 items to table proto--log-input\n",
      "msg seq: 6\n",
      "[{'msg_id': 'A173873487835', 'msg_type': 'COUPON_VALIDATE', 'device_id': 'user8221', 'location_code': 'loc0009', 'coupon_code': '0284-5988-5035-5887', 'response': 'VALID', 'create_time': '2025-02-05T05:56:02.572'}]\n",
      "Successfully wrote 1 items to table proto--log-input\n",
      "msg seq: 7\n",
      "[{'msg_id': 'A173873487836', 'msg_type': 'COUPON_VALIDATE', 'device_id': 'user3126', 'location_code': 'loc0001', 'coupon_code': '6934-7892-7527-1243', 'response': 'VALID', 'create_time': '2025-02-05T05:56:04.795'}]\n",
      "Successfully wrote 1 items to table proto--log-input\n",
      "msg seq: 8\n",
      "[{'msg_id': 'A173873487837', 'msg_type': 'COUPON_VALIDATE', 'device_id': 'user9313', 'location_code': 'loc0009', 'coupon_code': '7809-5235-8920-0959', 'response': 'VALID', 'create_time': '2025-02-05T05:56:07.018'}]\n",
      "Successfully wrote 1 items to table proto--log-input\n",
      "msg seq: 9\n",
      "[{'msg_id': 'A173873487838', 'msg_type': 'COUPON_VALIDATE', 'device_id': 'user3729', 'location_code': 'loc0005', 'coupon_code': '4388-2945-8889-1910', 'response': 'VALID', 'create_time': '2025-02-05T05:56:09.237'}]\n",
      "Successfully wrote 1 items to table proto--log-input\n",
      "==================================\n",
      "done.\n"
     ]
    }
   ],
   "source": [
    "print(\"start.\")\n",
    "print(\"==================================\")\n",
    "\n",
    "for n in range(STEPS):\n",
    "    print(f'msg seq: {n}')\n",
    "    log_items = []\n",
    "\n",
    "    # valid log\n",
    "    for i in range(VALID_MESSAGES_IN_STEPS[n]):\n",
    "        msg = sample.get_valid_message()\n",
    "        log_items.append(msg)\n",
    "        \n",
    "    # fraud log\n",
    "    for i in range(FRAUD_MESSAGES_IN_STEPS[n]):\n",
    "        msg = sample.get_fraud_message(FRAUD_COUPON_CODE)\n",
    "        log_items.append(msg)\n",
    "    \n",
    "    # write messages to dynamodb\n",
    "    if len(log_items) > 0:\n",
    "        print(log_items)\n",
    "        sample.batch_write_items(DDB_TABLE_NAME, log_items)\n",
    "    \n",
    "    # wait to next seq\n",
    "    time.sleep(INTERVAL)\n",
    "\n",
    "print(\"==================================\")\n",
    "print(\"done.\")"
   ]
  }
 ],
 "metadata": {
  "kernelspec": {
   "display_name": "Python 3 (ipykernel)",
   "language": "python",
   "name": "python3"
  },
  "language_info": {
   "codemirror_mode": {
    "name": "ipython",
    "version": 3
   },
   "file_extension": ".py",
   "mimetype": "text/x-python",
   "name": "python",
   "nbconvert_exporter": "python",
   "pygments_lexer": "ipython3",
   "version": "3.13.1"
  }
 },
 "nbformat": 4,
 "nbformat_minor": 5
}
