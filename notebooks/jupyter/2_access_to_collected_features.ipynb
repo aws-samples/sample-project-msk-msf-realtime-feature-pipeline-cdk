{
 "cells": [
  {
   "cell_type": "markdown",
   "id": "ad424a8e-794e-46c6-b052-daf4b3be87cf",
   "metadata": {},
   "source": [
    "# Access to collected fureatures"
   ]
  },
  {
   "cell_type": "markdown",
   "id": "1ec7472d-5c01-4dda-9228-a79c5c6f109a",
   "metadata": {},
   "source": [
    "## 1. Setup"
   ]
  },
  {
   "cell_type": "code",
   "execution_count": null,
   "id": "50537afc-ebf0-4ee3-a09c-6ea9b7510155",
   "metadata": {
    "scrolled": true
   },
   "outputs": [],
   "source": [
    "%pip install boto3 sagemaker pandas"
   ]
  },
  {
   "cell_type": "code",
   "execution_count": 4,
   "id": "f189d1c2-cefe-4d5c-856a-c281177612c7",
   "metadata": {},
   "outputs": [],
   "source": [
    "# If you are in local deeloment mode, set AWS Profile to access service.\n",
    "# Or you are in SageMaker Unified Studio or in SageMaker Notebook Instance, it runs on sagemaker default role.\n",
    "LOCAL_MODE = False\n",
    "if LOCAL_MODE:\n",
    "    import os\n",
    "    os.environ['AWS_PROFILE'] = 'msf'"
   ]
  },
  {
   "cell_type": "code",
   "execution_count": null,
   "id": "12007c95-1816-4fd5-a796-865221631c04",
   "metadata": {
    "scrolled": true
   },
   "outputs": [],
   "source": [
    "import os\n",
    "import logging\n",
    "import boto3\n",
    "import sagemaker\n",
    "from sagemaker.feature_store.feature_group import FeatureGroup\n",
    "\n",
    "logger = logging.getLogger('__name__')\n",
    "logger.setLevel(logging.DEBUG)\n",
    "logger.addHandler(logging.StreamHandler())"
   ]
  },
  {
   "cell_type": "code",
   "execution_count": null,
   "id": "db355817-439c-47e3-ba22-bc8cf952ebd2",
   "metadata": {
    "scrolled": true
   },
   "outputs": [],
   "source": [
    "sagemaker_session = sagemaker.Session()\n",
    "default_bucket = sagemaker_session.default_bucket()\n",
    "logger.info(f'Default S3 bucket = {default_bucket}')"
   ]
  },
  {
   "cell_type": "markdown",
   "id": "fb88df52-a940-45db-a165-83d018eee617",
   "metadata": {},
   "source": [
    "## 2. Get feature record from the Online feature store (SageMaker FeatureStore)"
   ]
  },
  {
   "cell_type": "code",
   "execution_count": 9,
   "id": "6cd1c416-e48e-421e-af8c-8f21ee47ae27",
   "metadata": {},
   "outputs": [],
   "source": [
    "sagemaker_client = sagemaker_session.boto_session.client(\"sagemaker\")\n",
    "featurestore_runtime_client = sagemaker_session.boto_session.client('sagemaker-featurestore-runtime')"
   ]
  },
  {
   "cell_type": "markdown",
   "id": "a4985474-0a31-446b-af12-7552ad4703ba",
   "metadata": {},
   "source": [
    "### List of feature groups"
   ]
  },
  {
   "cell_type": "code",
   "execution_count": 25,
   "id": "173480a2-5954-4e78-937f-0766e0b91bd8",
   "metadata": {},
   "outputs": [],
   "source": [
    "feature_group_prefix = \"proto-coupon\""
   ]
  },
  {
   "cell_type": "code",
   "execution_count": 38,
   "id": "94f6d4bd-04bf-4520-a271-43333a70de64",
   "metadata": {},
   "outputs": [
    {
     "name": "stdout",
     "output_type": "stream",
     "text": [
      "proto-coupon-location-daily-count [location_with_date]\n",
      "proto-coupon-prefix-count [loc_coupon_prefix]\n",
      "proto-coupon-location-invalid-count [location_code]\n"
     ]
    }
   ],
   "source": [
    "list_fg = sagemaker_client.search(\n",
    "    Resource=\"FeatureGroup\",\n",
    "    SearchExpression={\n",
    "        'Filters': [\n",
    "            {\n",
    "                'Name': 'FeatureGroupName',\n",
    "                'Operator': 'Contains',\n",
    "                'Value': feature_group_prefix\n",
    "            },\n",
    "        ]\n",
    "    }\n",
    ")\n",
    "\n",
    "for fg in list_fg['Results']: \n",
    "    print(f\"{fg['FeatureGroup']['FeatureGroupName']} [{fg['FeatureGroup']['RecordIdentifierFeatureName']}]\")"
   ]
  },
  {
   "cell_type": "markdown",
   "id": "baa45ea4-fea6-40b4-aab6-0da9201c5418",
   "metadata": {},
   "source": [
    "### Get an online feature value"
   ]
  },
  {
   "cell_type": "code",
   "execution_count": 31,
   "id": "9d75cd2c-bc7e-49e4-9fcc-45d3cc640c4e",
   "metadata": {},
   "outputs": [],
   "source": [
    "# Query parameters\n",
    "feature_group_name = 'proto-coupon-prefix-count'\n",
    "record_identifier = 'loc0000#0000-0000-0000-'"
   ]
  },
  {
   "cell_type": "code",
   "execution_count": 44,
   "id": "97f58eef-76c9-416d-8acd-b676986bf84f",
   "metadata": {},
   "outputs": [
    {
     "name": "stdout",
     "output_type": "stream",
     "text": [
      "loc_coupon_prefix :: loc0000#0000-0000-0000-\n",
      "msg_count :: 1\n",
      "event_time :: 2025-02-04T21:30:59.587Z\n"
     ]
    }
   ],
   "source": [
    "# Query\n",
    "feature_record = featurestore_runtime_client.get_record(\n",
    "    FeatureGroupName=feature_group_name, \n",
    "    RecordIdentifierValueAsString=record_identifier\n",
    ")\n",
    "\n",
    "for rec in feature_record['Record']:\n",
    "    print(f\"{rec['FeatureName']} :: {rec['ValueAsString']}\")"
   ]
  },
  {
   "cell_type": "markdown",
   "id": "f3e8b05b-c3b9-4b8f-a630-4195bef21570",
   "metadata": {},
   "source": [
    "## 3. Query feature records from Offline feature store (Athena)"
   ]
  },
  {
   "cell_type": "markdown",
   "id": "ef6b12ca-ca65-4967-81d9-44ada8d21d44",
   "metadata": {},
   "source": [
    "### Athena Setup"
   ]
  },
  {
   "cell_type": "code",
   "execution_count": 42,
   "id": "be0e9aad-0a8d-45ec-8a62-ea08277e95c1",
   "metadata": {},
   "outputs": [
    {
     "name": "stdout",
     "output_type": "stream",
     "text": [
      "Athena query output location: \n",
      "s3://sagemaker-us-east-1-528757807778/proto-featurestore/query-results/\n"
     ]
    }
   ],
   "source": [
    "# Query result location\n",
    "output_location = f's3://{default_bucket}/proto-featurestore/query-results/'\n",
    "print(f'Athena query output location: \\n{output_location}')"
   ]
  },
  {
   "cell_type": "code",
   "execution_count": 51,
   "id": "c203fe5d-174e-4ddf-a8ca-1d4fdd3b1d52",
   "metadata": {},
   "outputs": [
    {
     "name": "stdout",
     "output_type": "stream",
     "text": [
      "Athena table name: \n",
      "proto_coupon_prefix_count_1737693307\n"
     ]
    }
   ],
   "source": [
    "# Find Athena table name\n",
    "coupon_fg_name = 'proto-coupon-prefix-count'\n",
    "\n",
    "coupon_fg = FeatureGroup(name=coupon_fg_name, sagemaker_session=sagemaker_session)\n",
    "fg_athena = coupon_fg.athena_query()\n",
    "fg_table = fg_athena.table_name\n",
    "\n",
    "print(f'Athena table name: \\n{fg_table}')"
   ]
  },
  {
   "cell_type": "markdown",
   "id": "249606d0-3bff-4c86-94f6-042bfdc37340",
   "metadata": {},
   "source": [
    "### Get offline feature values"
   ]
  },
  {
   "cell_type": "code",
   "execution_count": 52,
   "id": "8930f06b-7722-4ab5-9944-7900ad0ceae3",
   "metadata": {},
   "outputs": [
    {
     "name": "stdout",
     "output_type": "stream",
     "text": [
      "SELECT *  FROM \"proto_coupon_prefix_count_1737693307\"  ORDER BY event_time\n"
     ]
    }
   ],
   "source": [
    "query_string = f'''\n",
    "    SELECT * \n",
    "    FROM \"{fg_table}\" \n",
    "    ORDER BY event_time\n",
    "'''.replace('\\n    ', ' ').strip()\n",
    "\n",
    "print(query_string)"
   ]
  },
  {
   "cell_type": "code",
   "execution_count": null,
   "id": "d5199dd8-d210-4662-9855-631497969ecf",
   "metadata": {},
   "outputs": [],
   "source": [
    "fg_athena.run(query_string=query_string, output_location=output_location)\n",
    "fg_athena.wait()\n",
    "result_df = fg_athena.as_dataframe()"
   ]
  },
  {
   "cell_type": "code",
   "execution_count": 58,
   "id": "f17fcba9-ff60-498a-a2df-459db5d25f64",
   "metadata": {},
   "outputs": [
    {
     "name": "stdout",
     "output_type": "stream",
     "text": [
      "Num of Results : 7\n"
     ]
    },
    {
     "data": {
      "text/html": [
       "<div>\n",
       "<style scoped>\n",
       "    .dataframe tbody tr th:only-of-type {\n",
       "        vertical-align: middle;\n",
       "    }\n",
       "\n",
       "    .dataframe tbody tr th {\n",
       "        vertical-align: top;\n",
       "    }\n",
       "\n",
       "    .dataframe thead th {\n",
       "        text-align: right;\n",
       "    }\n",
       "</style>\n",
       "<table border=\"1\" class=\"dataframe\">\n",
       "  <thead>\n",
       "    <tr style=\"text-align: right;\">\n",
       "      <th></th>\n",
       "      <th>write_time</th>\n",
       "      <th>api_invocation_time</th>\n",
       "      <th>is_deleted</th>\n",
       "      <th>loc_coupon_prefix</th>\n",
       "      <th>msg_count</th>\n",
       "      <th>event_time</th>\n",
       "    </tr>\n",
       "  </thead>\n",
       "  <tbody>\n",
       "    <tr>\n",
       "      <th>0</th>\n",
       "      <td>2025-02-04 13:14:32.250000 UTC</td>\n",
       "      <td>2025-02-04 13:09:36.000000 UTC</td>\n",
       "      <td>False</td>\n",
       "      <td>loc0009#9054-9710-7280-</td>\n",
       "      <td>4</td>\n",
       "      <td>2025-02-04T18:41:28.025Z</td>\n",
       "    </tr>\n",
       "    <tr>\n",
       "      <th>1</th>\n",
       "      <td>2025-02-04 13:14:32.250000 UTC</td>\n",
       "      <td>2025-02-04 13:09:35.000000 UTC</td>\n",
       "      <td>False</td>\n",
       "      <td>loc0009#9054-9710-7280-</td>\n",
       "      <td>4</td>\n",
       "      <td>2025-02-04T18:41:28.025Z</td>\n",
       "    </tr>\n",
       "    <tr>\n",
       "      <th>2</th>\n",
       "      <td>2025-02-04 13:14:28.077000 UTC</td>\n",
       "      <td>2025-02-04 13:09:36.000000 UTC</td>\n",
       "      <td>False</td>\n",
       "      <td>loc0000#0000-0000-0000-</td>\n",
       "      <td>3</td>\n",
       "      <td>2025-02-04T20:29:52.395Z</td>\n",
       "    </tr>\n",
       "    <tr>\n",
       "      <th>3</th>\n",
       "      <td>2025-02-04 13:14:28.077000 UTC</td>\n",
       "      <td>2025-02-04 13:09:36.000000 UTC</td>\n",
       "      <td>False</td>\n",
       "      <td>loc0000#0000-0000-0000-</td>\n",
       "      <td>1</td>\n",
       "      <td>2025-02-04T21:18:11.021Z</td>\n",
       "    </tr>\n",
       "    <tr>\n",
       "      <th>4</th>\n",
       "      <td>2025-02-04 13:14:28.077000 UTC</td>\n",
       "      <td>2025-02-04 13:09:36.000000 UTC</td>\n",
       "      <td>False</td>\n",
       "      <td>loc0000#0000-0000-0000-</td>\n",
       "      <td>1</td>\n",
       "      <td>2025-02-04T21:28:22.157Z</td>\n",
       "    </tr>\n",
       "    <tr>\n",
       "      <th>5</th>\n",
       "      <td>2025-02-04 13:14:28.077000 UTC</td>\n",
       "      <td>2025-02-04 13:09:36.000000 UTC</td>\n",
       "      <td>False</td>\n",
       "      <td>loc0000#0000-0000-0000-</td>\n",
       "      <td>2</td>\n",
       "      <td>2025-02-04T21:30:59.587Z</td>\n",
       "    </tr>\n",
       "    <tr>\n",
       "      <th>6</th>\n",
       "      <td>2025-02-04 13:14:28.077000 UTC</td>\n",
       "      <td>2025-02-04 13:09:36.000000 UTC</td>\n",
       "      <td>False</td>\n",
       "      <td>loc0000#0000-0000-0000-</td>\n",
       "      <td>1</td>\n",
       "      <td>2025-02-04T21:30:59.587Z</td>\n",
       "    </tr>\n",
       "  </tbody>\n",
       "</table>\n",
       "</div>"
      ],
      "text/plain": [
       "                       write_time             api_invocation_time  is_deleted  \\\n",
       "0  2025-02-04 13:14:32.250000 UTC  2025-02-04 13:09:36.000000 UTC       False   \n",
       "1  2025-02-04 13:14:32.250000 UTC  2025-02-04 13:09:35.000000 UTC       False   \n",
       "2  2025-02-04 13:14:28.077000 UTC  2025-02-04 13:09:36.000000 UTC       False   \n",
       "3  2025-02-04 13:14:28.077000 UTC  2025-02-04 13:09:36.000000 UTC       False   \n",
       "4  2025-02-04 13:14:28.077000 UTC  2025-02-04 13:09:36.000000 UTC       False   \n",
       "5  2025-02-04 13:14:28.077000 UTC  2025-02-04 13:09:36.000000 UTC       False   \n",
       "6  2025-02-04 13:14:28.077000 UTC  2025-02-04 13:09:36.000000 UTC       False   \n",
       "\n",
       "         loc_coupon_prefix  msg_count                event_time  \n",
       "0  loc0009#9054-9710-7280-          4  2025-02-04T18:41:28.025Z  \n",
       "1  loc0009#9054-9710-7280-          4  2025-02-04T18:41:28.025Z  \n",
       "2  loc0000#0000-0000-0000-          3  2025-02-04T20:29:52.395Z  \n",
       "3  loc0000#0000-0000-0000-          1  2025-02-04T21:18:11.021Z  \n",
       "4  loc0000#0000-0000-0000-          1  2025-02-04T21:28:22.157Z  \n",
       "5  loc0000#0000-0000-0000-          2  2025-02-04T21:30:59.587Z  \n",
       "6  loc0000#0000-0000-0000-          1  2025-02-04T21:30:59.587Z  "
      ]
     },
     "execution_count": 58,
     "metadata": {},
     "output_type": "execute_result"
    }
   ],
   "source": [
    "print(f\"Num of Results : {len(result_df)}\")\n",
    "result_df.head(10)"
   ]
  }
 ],
 "metadata": {
  "kernelspec": {
   "display_name": "Python 3 (ipykernel)",
   "language": "python",
   "name": "python3"
  },
  "language_info": {
   "codemirror_mode": {
    "name": "ipython",
    "version": 3
   },
   "file_extension": ".py",
   "mimetype": "text/x-python",
   "name": "python",
   "nbconvert_exporter": "python",
   "pygments_lexer": "ipython3",
   "version": "3.13.1"
  }
 },
 "nbformat": 4,
 "nbformat_minor": 5
}
